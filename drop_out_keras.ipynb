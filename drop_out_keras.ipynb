{
 "cells": [
  {
   "cell_type": "code",
   "execution_count": 129,
   "metadata": {},
   "outputs": [
    {
     "data": {
      "text/plain": [
       "(3603, 48)"
      ]
     },
     "execution_count": 129,
     "metadata": {},
     "output_type": "execute_result"
    }
   ],
   "source": [
    "import pandas as pd\n",
    "import keras\n",
    "import numpy as np\n",
    "from keras.layers import Dense\n",
    "from keras.models import Sequential\n",
    "from keras.utils.np_utils import to_categorical\n",
    "from keras.models import load_model\n",
    "from keras.callbacks import ModelCheckpoint\n",
    "from keras.callbacks import EarlyStopping\n",
    "import matplotlib.pyplot as plt\n",
    "keras_dat = pd.read_csv(\"keras_test.csv\", delimiter = \",\")\n",
    "keras_dat.shape "
   ]
  },
  {
   "cell_type": "code",
   "execution_count": 130,
   "metadata": {},
   "outputs": [
    {
     "data": {
      "text/html": [
       "<div>\n",
       "<style scoped>\n",
       "    .dataframe tbody tr th:only-of-type {\n",
       "        vertical-align: middle;\n",
       "    }\n",
       "\n",
       "    .dataframe tbody tr th {\n",
       "        vertical-align: top;\n",
       "    }\n",
       "\n",
       "    .dataframe thead th {\n",
       "        text-align: right;\n",
       "    }\n",
       "</style>\n",
       "<table border=\"1\" class=\"dataframe\">\n",
       "  <thead>\n",
       "    <tr style=\"text-align: right;\">\n",
       "      <th></th>\n",
       "      <th>0</th>\n",
       "      <th>1</th>\n",
       "    </tr>\n",
       "  </thead>\n",
       "  <tbody>\n",
       "    <tr>\n",
       "      <th>0</th>\n",
       "      <td>1.0</td>\n",
       "      <td>0.0</td>\n",
       "    </tr>\n",
       "    <tr>\n",
       "      <th>1</th>\n",
       "      <td>1.0</td>\n",
       "      <td>0.0</td>\n",
       "    </tr>\n",
       "    <tr>\n",
       "      <th>2</th>\n",
       "      <td>0.0</td>\n",
       "      <td>1.0</td>\n",
       "    </tr>\n",
       "    <tr>\n",
       "      <th>3</th>\n",
       "      <td>1.0</td>\n",
       "      <td>0.0</td>\n",
       "    </tr>\n",
       "    <tr>\n",
       "      <th>4</th>\n",
       "      <td>0.0</td>\n",
       "      <td>1.0</td>\n",
       "    </tr>\n",
       "    <tr>\n",
       "      <th>...</th>\n",
       "      <td>...</td>\n",
       "      <td>...</td>\n",
       "    </tr>\n",
       "    <tr>\n",
       "      <th>3598</th>\n",
       "      <td>0.0</td>\n",
       "      <td>1.0</td>\n",
       "    </tr>\n",
       "    <tr>\n",
       "      <th>3599</th>\n",
       "      <td>1.0</td>\n",
       "      <td>0.0</td>\n",
       "    </tr>\n",
       "    <tr>\n",
       "      <th>3600</th>\n",
       "      <td>0.0</td>\n",
       "      <td>1.0</td>\n",
       "    </tr>\n",
       "    <tr>\n",
       "      <th>3601</th>\n",
       "      <td>0.0</td>\n",
       "      <td>1.0</td>\n",
       "    </tr>\n",
       "    <tr>\n",
       "      <th>3602</th>\n",
       "      <td>0.0</td>\n",
       "      <td>1.0</td>\n",
       "    </tr>\n",
       "  </tbody>\n",
       "</table>\n",
       "<p>3603 rows × 2 columns</p>\n",
       "</div>"
      ],
      "text/plain": [
       "        0    1\n",
       "0     1.0  0.0\n",
       "1     1.0  0.0\n",
       "2     0.0  1.0\n",
       "3     1.0  0.0\n",
       "4     0.0  1.0\n",
       "...   ...  ...\n",
       "3598  0.0  1.0\n",
       "3599  1.0  0.0\n",
       "3600  0.0  1.0\n",
       "3601  0.0  1.0\n",
       "3602  0.0  1.0\n",
       "\n",
       "[3603 rows x 2 columns]"
      ]
     },
     "execution_count": 130,
     "metadata": {},
     "output_type": "execute_result"
    }
   ],
   "source": [
    "# for the sake of following data camp seperate predictors and y\n",
    "data_camp_y = keras_dat.drop_out\n",
    "data_camp_y = to_categorical(data_camp_y)\n",
    "data_camp_y = pd.DataFrame(data = data_camp_y)\n",
    "data_camp_predictors = keras_dat.drop([\"drop_out\"], axis = 1)\n",
    "data_camp_y\n",
    "#data_camp_predictors"
   ]
  },
  {
   "cell_type": "code",
   "execution_count": 131,
   "metadata": {},
   "outputs": [],
   "source": [
    "# Save the number of columns in predictors: n_cols\n",
    "n_cols = data_camp_predictors.shape[1]\n",
    "\n",
    "# Set up the model: model\n",
    "model = Sequential()\n",
    "\n",
    "# Add the first layer\n",
    "model.add(Dense(600, activation=\"relu\", input_shape=(n_cols,)))\n",
    "model.add(Dense(600, activation = \"relu\"))\n",
    "model.add(Dense(600, activation = \"relu\"))\n",
    "model.add(Dense(600, activation = \"relu\"))\n",
    "# Add the second layer\n",
    "model.add(Dense(2, activation = \"softmax\"))\n",
    "model.compile(optimizer = \"adam\", loss = \"binary_crossentropy\", metrics = [\"accuracy\"])\n",
    "# How many epochs can go without improving \n",
    "early_stopping_monitor = EarlyStopping(patience = 3)"
   ]
  },
  {
   "cell_type": "code",
   "execution_count": 132,
   "metadata": {},
   "outputs": [
    {
     "name": "stdout",
     "output_type": "stream",
     "text": [
      "Train on 2522 samples, validate on 1081 samples\n",
      "Epoch 1/20\n",
      "2522/2522 [==============================] - 2s 915us/step - loss: 0.7207 - accuracy: 0.5987 - val_loss: 0.6859 - val_accuracy: 0.5578\n",
      "Epoch 2/20\n",
      "2522/2522 [==============================] - 2s 721us/step - loss: 0.6642 - accuracy: 0.6162 - val_loss: 0.6801 - val_accuracy: 0.5856\n",
      "Epoch 3/20\n",
      "2522/2522 [==============================] - 2s 753us/step - loss: 0.6416 - accuracy: 0.6427 - val_loss: 0.6989 - val_accuracy: 0.5745\n",
      "Epoch 4/20\n",
      "2522/2522 [==============================] - 2s 732us/step - loss: 0.6346 - accuracy: 0.6459 - val_loss: 0.7055 - val_accuracy: 0.5634\n",
      "Epoch 5/20\n",
      "2522/2522 [==============================] - 2s 771us/step - loss: 0.6225 - accuracy: 0.6439 - val_loss: 0.6864 - val_accuracy: 0.5735\n"
     ]
    }
   ],
   "source": [
    "model_results = model.fit(data_camp_predictors, data_camp_y, validation_split = .3, epochs = 20, callbacks = [early_stopping_monitor])"
   ]
  },
  {
   "cell_type": "code",
   "execution_count": 133,
   "metadata": {},
   "outputs": [
    {
     "data": {
      "text/plain": [
       "[0.5578168630599976,\n",
       " 0.585568904876709,\n",
       " 0.5744680762290955,\n",
       " 0.5633672475814819,\n",
       " 0.5735430121421814]"
      ]
     },
     "execution_count": 133,
     "metadata": {},
     "output_type": "execute_result"
    }
   ],
   "source": [
    "model_results.history[\"accuracy\"]\n",
    "model_results.history[\"val_accuracy\"]"
   ]
  },
  {
   "cell_type": "code",
   "execution_count": 135,
   "metadata": {},
   "outputs": [
    {
     "ename": "AttributeError",
     "evalue": "module 'matplotlib.pyplot' has no attribute 'legnd'",
     "output_type": "error",
     "traceback": [
      "\u001b[1;31m---------------------------------------------------------------------------\u001b[0m",
      "\u001b[1;31mAttributeError\u001b[0m                            Traceback (most recent call last)",
      "\u001b[1;32m<ipython-input-135-4b97aea6434a>\u001b[0m in \u001b[0;36m<module>\u001b[1;34m\u001b[0m\n\u001b[0;32m      6\u001b[0m \u001b[0mplt\u001b[0m\u001b[1;33m.\u001b[0m\u001b[0mylabel\u001b[0m\u001b[1;33m(\u001b[0m\u001b[1;34m\"Accuracy\"\u001b[0m\u001b[1;33m)\u001b[0m\u001b[1;33m\u001b[0m\u001b[1;33m\u001b[0m\u001b[0m\n\u001b[0;32m      7\u001b[0m \u001b[0mplt\u001b[0m\u001b[1;33m.\u001b[0m\u001b[0mxlabel\u001b[0m\u001b[1;33m(\u001b[0m\u001b[1;34m\"Epoch\"\u001b[0m\u001b[1;33m)\u001b[0m\u001b[1;33m\u001b[0m\u001b[1;33m\u001b[0m\u001b[0m\n\u001b[1;32m----> 8\u001b[1;33m \u001b[0mplt\u001b[0m\u001b[1;33m.\u001b[0m\u001b[0mlegnd\u001b[0m\u001b[1;33m(\u001b[0m\u001b[1;33m[\u001b[0m\u001b[1;34m\"Train\"\u001b[0m\u001b[1;33m,\u001b[0m \u001b[1;34m\"test\"\u001b[0m\u001b[1;33m]\u001b[0m\u001b[1;33m)\u001b[0m\u001b[1;33m\u001b[0m\u001b[1;33m\u001b[0m\u001b[0m\n\u001b[0m\u001b[0;32m      9\u001b[0m \u001b[0mplt\u001b[0m\u001b[1;33m.\u001b[0m\u001b[0mshow\u001b[0m\u001b[1;33m(\u001b[0m\u001b[1;33m)\u001b[0m\u001b[1;33m\u001b[0m\u001b[1;33m\u001b[0m\u001b[0m\n",
      "\u001b[1;31mAttributeError\u001b[0m: module 'matplotlib.pyplot' has no attribute 'legnd'"
     ]
    },
    {
     "data": {
      "image/png": "[encoded data removed]",
      "text/plain": [
       "<Figure size 432x288 with 1 Axes>"
      ]
     },
     "metadata": {
      "needs_background": "light"
     },
     "output_type": "display_data"
    }
   ],
   "source": [
    "#Plot the accuracy for training and testing\n",
    "plt.figure()\n",
    "plt.plot(model_results.history[\"accuracy\"])\n",
    "plt.plot(model_results.history[\"val_accuracy\"])\n",
    "plt.title(\"Model accuracy\")\n",
    "plt.ylabel(\"Accuracy\")\n",
    "plt.xlabel(\"Epoch\")\n",
    "plt.legnd([\"Train\", \"test\"])\n",
    "plt.show()"
   ]
  },
  {
   "cell_type": "code",
   "execution_count": 127,
   "metadata": {},
   "outputs": [
    {
     "ename": "AttributeError",
     "evalue": "'ModelCheckpoint' object has no attribute 'save'",
     "output_type": "error",
     "traceback": [
      "\u001b[1;31m---------------------------------------------------------------------------\u001b[0m",
      "\u001b[1;31mAttributeError\u001b[0m                            Traceback (most recent call last)",
      "\u001b[1;32m<ipython-input-127-1d4c3ea5d57c>\u001b[0m in \u001b[0;36m<module>\u001b[1;34m\u001b[0m\n\u001b[0;32m      1\u001b[0m \u001b[0mmodel\u001b[0m\u001b[1;33m.\u001b[0m\u001b[0msave\u001b[0m\u001b[1;33m(\u001b[0m\u001b[1;34m\"model.h5\"\u001b[0m\u001b[1;33m)\u001b[0m\u001b[1;33m\u001b[0m\u001b[1;33m\u001b[0m\u001b[0m\n\u001b[0;32m      2\u001b[0m \u001b[0mbest_drop_model\u001b[0m \u001b[1;33m=\u001b[0m \u001b[0mModelCheckpoint\u001b[0m\u001b[1;33m(\u001b[0m\u001b[1;34m'model.hdf5'\u001b[0m\u001b[1;33m,\u001b[0m \u001b[0msave_best_only\u001b[0m \u001b[1;33m=\u001b[0m \u001b[1;32mTrue\u001b[0m\u001b[1;33m)\u001b[0m\u001b[1;33m\u001b[0m\u001b[1;33m\u001b[0m\u001b[0m\n\u001b[1;32m----> 3\u001b[1;33m \u001b[0mbest_drop_model\u001b[0m\u001b[1;33m.\u001b[0m\u001b[0msave\u001b[0m\u001b[1;33m(\u001b[0m\u001b[1;34m\"best_drop_model.h5\"\u001b[0m\u001b[1;33m)\u001b[0m\u001b[1;33m\u001b[0m\u001b[1;33m\u001b[0m\u001b[0m\n\u001b[0m",
      "\u001b[1;31mAttributeError\u001b[0m: 'ModelCheckpoint' object has no attribute 'save'"
     ]
    }
   ],
   "source": [
    "model.save(\"model.h5\")\n",
    "best_drop_model = ModelCheckpoint('model.hdf5', save_best_only = True)\n",
    "# Figure out how to save the best model and then loiad in later\n",
    "#best_drop_model.save(\"best_drop_model.h5\")"
   ]
  },
  {
   "cell_type": "code",
   "execution_count": 86,
   "metadata": {},
   "outputs": [
    {
     "name": "stdout",
     "output_type": "stream",
     "text": [
      "Model: \"sequential_10\"\n",
      "_________________________________________________________________\n",
      "Layer (type)                 Output Shape              Param #   \n",
      "=================================================================\n",
      "dense_21 (Dense)             (None, 100)               4800      \n",
      "_________________________________________________________________\n",
      "dense_22 (Dense)             (None, 100)               10100     \n",
      "_________________________________________________________________\n",
      "dense_23 (Dense)             (None, 100)               10100     \n",
      "_________________________________________________________________\n",
      "dense_24 (Dense)             (None, 2)                 202       \n",
      "=================================================================\n",
      "Total params: 25,202\n",
      "Trainable params: 25,202\n",
      "Non-trainable params: 0\n",
      "_________________________________________________________________\n"
     ]
    }
   ],
   "source": [
    "my_model = load_model(\"model.h5\")\n",
    "my_model.summary()"
   ]
  },
  {
   "cell_type": "code",
   "execution_count": 85,
   "metadata": {},
   "outputs": [
    {
     "data": {
      "text/plain": [
       "array([0.6849164 , 0.664508  , 0.6975734 , 0.7072552 , 0.8189338 ,\n",
       "       0.6766609 , 0.6766609 , 0.654953  , 0.654953  , 0.654953  ,\n",
       "       0.654953  , 0.668959  , 0.6959559 , 0.74295026, 0.7473181 ,\n",
       "       0.6559704 , 0.6559704 , 0.7415731 , 0.7046431 , 0.7889785 ,\n",
       "       0.7611214 , 0.7816403 , 0.65388167, 0.5782211 , 0.7051265 ,\n",
       "       0.752768  , 0.6980557 , 0.69333255, 0.69333255, 0.69333255,\n",
       "       0.6933325 , 0.5885405 , 0.5885405 , 0.74701625, 0.6837417 ,\n",
       "       0.64280033, 0.64280033, 0.6413607 , 0.7217066 , 0.66664654,\n",
       "       0.70934314, 0.7798905 , 0.7798905 , 0.66473776, 0.66473776,\n",
       "       0.638469  , 0.60716045, 0.65300995, 0.7576994 , 0.7775698 ,\n",
       "       0.77926147, 0.61763537, 0.61763537, 0.74563384, 0.7128213 ,\n",
       "       0.6798767 , 0.6798767 , 0.66528326, 0.7433876 , 0.78089076,\n",
       "       0.7551341 , 0.660503  , 0.68807304, 0.8190979 , 0.67995524,\n",
       "       0.72214836, 0.7326396 , 0.7379526 , 0.7379526 , 0.7050978 ,\n",
       "       0.6996518 , 0.7163151 , 0.7163151 , 0.77524525, 0.6861684 ,\n",
       "       0.68454134, 0.68454134, 0.78933376, 0.70137227, 0.74819005,\n",
       "       0.74819005, 0.72513384, 0.72513384, 0.69632065, 0.6431483 ,\n",
       "       0.7814048 , 0.78303874, 0.7515278 , 0.7515278 , 0.65508497,\n",
       "       0.6658992 , 0.63028985, 0.64146143, 0.69219524, 0.6921953 ,\n",
       "       0.59507984, 0.6121899 , 0.66706127, 0.56849885, 0.602972  ,\n",
       "       0.602972  , 0.72143275, 0.60684174, 0.6337199 , 0.6317025 ,\n",
       "       0.71893734, 0.68993765, 0.5568796 , 0.69528   , 0.74823916,\n",
       "       0.7156856 , 0.67552775, 0.78574026, 0.61564827, 0.61564827,\n",
       "       0.6229719 , 0.6229719 , 0.67695653, 0.67695653, 0.69107485,\n",
       "       0.7134979 , 0.66122276, 0.66122276, 0.66122276, 0.66122276,\n",
       "       0.66519564, 0.66519576, 0.6845733 , 0.77324116, 0.68895215,\n",
       "       0.74275625, 0.6113581 , 0.6113581 , 0.67119455, 0.6630844 ,\n",
       "       0.6826268 , 0.6826268 , 0.67277294, 0.8390566 , 0.65109307,\n",
       "       0.65109307, 0.59462327, 0.73414487, 0.7035115 , 0.6835638 ,\n",
       "       0.8693812 , 0.64309204, 0.70795125, 0.77763677, 0.68272334,\n",
       "       0.7448538 , 0.6805919 , 0.6805919 , 0.6812192 , 0.6812192 ,\n",
       "       0.7146897 , 0.7146897 , 0.7495761 , 0.7678194 , 0.5629244 ,\n",
       "       0.5538725 , 0.6367695 , 0.63070214, 0.789807  , 0.67613816,\n",
       "       0.55630314, 0.733468  , 0.74630743, 0.6591796 , 0.7126439 ,\n",
       "       0.662515  , 0.7156334 , 0.56774175, 0.58951145, 0.70904905,\n",
       "       0.69345653, 0.5569965 , 0.588375  , 0.74420637, 0.724712  ,\n",
       "       0.6883166 , 0.72724247, 0.7270464 , 0.6755636 , 0.7086202 ,\n",
       "       0.7270394 , 0.68395007, 0.6544387 , 0.72077596, 0.73123664,\n",
       "       0.79041827, 0.71463203, 0.6292877 , 0.61604315, 0.7344389 ,\n",
       "       0.6621999 , 0.6422227 , 0.5852975 , 0.56855065, 0.74189234,\n",
       "       0.6801808 , 0.7281825 , 0.6022085 , 0.678118  , 0.60216755,\n",
       "       0.7892088 , 0.60602915, 0.6785525 , 0.66036505, 0.61533594,\n",
       "       0.71009606, 0.7480367 , 0.74627656, 0.7651587 , 0.7229982 ,\n",
       "       0.61912745, 0.69209313, 0.6105231 , 0.6501431 , 0.76232946,\n",
       "       0.7477767 , 0.7028676 , 0.7138519 , 0.7464593 , 0.739213  ,\n",
       "       0.77996355, 0.6647676 , 0.4941441 , 0.73344   , 0.63321406,\n",
       "       0.62116855, 0.69993067, 0.74172395, 0.65571785, 0.6502207 ,\n",
       "       0.7629061 , 0.65730995, 0.7190118 , 0.7092299 , 0.69351196,\n",
       "       0.6936801 , 0.6884971 , 0.67784077, 0.70000416, 0.67869866,\n",
       "       0.6180217 , 0.7315582 , 0.71660817, 0.5458166 , 0.70039016,\n",
       "       0.6790826 , 0.7652297 , 0.7967576 , 0.6490065 , 0.8329657 ,\n",
       "       0.7811275 , 0.80103374, 0.6576787 , 0.73772615, 0.6983572 ,\n",
       "       0.64936817, 0.7302434 , 0.63780457, 0.62675387, 0.7311588 ,\n",
       "       0.6750001 , 0.7036783 , 0.74586254, 0.7036362 , 0.59314466,\n",
       "       0.7803734 , 0.5877313 , 0.70016664, 0.5967659 , 0.696983  ,\n",
       "       0.74910665, 0.5969398 , 0.76059306, 0.74431103, 0.7196018 ,\n",
       "       0.7324469 , 0.6681886 , 0.6803577 , 0.5746778 , 0.6489105 ,\n",
       "       0.58467954, 0.6633484 , 0.53946644, 0.6446895 , 0.7213021 ,\n",
       "       0.612168  , 0.6914905 , 0.7785862 , 0.7448791 , 0.62457556,\n",
       "       0.7214279 , 0.55162084, 0.7585568 , 0.685573  , 0.7287682 ,\n",
       "       0.7721271 , 0.6962484 , 0.5427229 , 0.6188734 , 0.76036143,\n",
       "       0.6456688 , 0.7699097 , 0.6782426 , 0.55710405, 0.66664153,\n",
       "       0.7368926 , 0.76987773, 0.72426975, 0.6786699 , 0.6922587 ,\n",
       "       0.66167825, 0.637632  , 0.6194776 , 0.6461051 , 0.6720111 ,\n",
       "       0.7206557 , 0.7282998 , 0.60624   , 0.603426  , 0.6425301 ,\n",
       "       0.7277766 , 0.7747949 , 0.66343373, 0.60983443, 0.6563494 ,\n",
       "       0.7166323 , 0.62127227, 0.6582878 , 0.7015395 , 0.7738536 ,\n",
       "       0.75904536, 0.66525435, 0.49726796, 0.70062757, 0.64205474,\n",
       "       0.6399133 , 0.74006003, 0.7796476 , 0.6844238 , 0.6850419 ,\n",
       "       0.5873852 , 0.653278  , 0.735048  , 0.65023565, 0.67440766,\n",
       "       0.6255101 , 0.73388124, 0.71777153, 0.60283315, 0.6186177 ,\n",
       "       0.7066133 , 0.6586965 , 0.63134223, 0.6255708 , 0.6753891 ,\n",
       "       0.72051084, 0.7355849 , 0.700092  , 0.72848547, 0.704937  ,\n",
       "       0.66628045, 0.7554689 , 0.6981686 , 0.6539098 , 0.65538895,\n",
       "       0.7017452 , 0.62815493, 0.6120915 , 0.68810445, 0.71704644,\n",
       "       0.8015209 , 0.77345884, 0.7218305 , 0.69196975, 0.69144404,\n",
       "       0.7675548 , 0.65035   , 0.63766015, 0.71454054, 0.57191783,\n",
       "       0.6107485 , 0.73718125, 0.74649477, 0.7504934 , 0.63361466,\n",
       "       0.70886487, 0.5951506 , 0.72350955, 0.6604124 , 0.65372664,\n",
       "       0.51994246, 0.6210783 , 0.6395197 , 0.6557346 , 0.6587047 ,\n",
       "       0.7085488 , 0.76988477, 0.69921577, 0.7462212 , 0.52519804,\n",
       "       0.6326298 , 0.6596418 , 0.70100844, 0.68744564, 0.58834714,\n",
       "       0.6459127 , 0.6456481 , 0.657157  , 0.8488662 , 0.6649329 ,\n",
       "       0.6473356 , 0.65659255, 0.7050879 , 0.73650587, 0.5319222 ,\n",
       "       0.6517275 , 0.7406795 , 0.5902565 , 0.6598427 , 0.5909693 ,\n",
       "       0.73437285, 0.6872801 , 0.6763637 , 0.65478206, 0.7724328 ,\n",
       "       0.7178764 , 0.71923214, 0.63164335, 0.84422016, 0.6720987 ,\n",
       "       0.6322216 , 0.66254   , 0.56454456, 0.7103964 , 0.7367505 ,\n",
       "       0.70394164, 0.73917806, 0.69421995, 0.5305647 , 0.69601095,\n",
       "       0.8145903 , 0.698144  , 0.756531  , 0.5773803 , 0.70482504,\n",
       "       0.77691054, 0.6474728 , 0.7479661 , 0.71146935, 0.62130296,\n",
       "       0.73086274, 0.6256709 , 0.7376851 , 0.7195597 , 0.6737449 ,\n",
       "       0.68461466, 0.677799  , 0.81036246, 0.7076129 , 0.73595977,\n",
       "       0.806     , 0.8641846 , 0.7481627 , 0.71994597, 0.73127633,\n",
       "       0.71175826, 0.8144278 , 0.6869555 , 0.6516365 , 0.6270116 ,\n",
       "       0.5304484 , 0.70403314, 0.7076313 , 0.5671535 , 0.75878185,\n",
       "       0.78958637, 0.6440091 , 0.64128363, 0.6223209 , 0.702894  ,\n",
       "       0.60174197, 0.49409553, 0.6356466 , 0.6480636 , 0.7547898 ,\n",
       "       0.7078534 , 0.6033167 , 0.5821856 , 0.7294942 , 0.66910297,\n",
       "       0.7085297 , 0.6312932 , 0.6100126 , 0.5959978 , 0.61379504,\n",
       "       0.59905434, 0.575467  , 0.6174004 , 0.70299697, 0.72359985,\n",
       "       0.6236206 , 0.7495606 , 0.58474034, 0.52480847, 0.72538793,\n",
       "       0.60617006, 0.60002553, 0.5715586 , 0.6515736 , 0.66101176,\n",
       "       0.76198316, 0.5646553 , 0.7117531 , 0.68583125, 0.75333834,\n",
       "       0.70909727, 0.64202386, 0.5697397 , 0.68854123, 0.62180233,\n",
       "       0.74980843, 0.64061236, 0.73143655, 0.5874752 , 0.6233537 ,\n",
       "       0.7006    , 0.6766247 , 0.7487059 , 0.61017895, 0.6408751 ,\n",
       "       0.6899426 , 0.65381676, 0.67543864, 0.6972126 , 0.56119126,\n",
       "       0.61466885, 0.5773169 , 0.62521076, 0.75436187, 0.6728958 ,\n",
       "       0.6300235 , 0.6207281 , 0.70302075, 0.66684103, 0.6559333 ,\n",
       "       0.6453401 , 0.6101958 , 0.6583784 , 0.69818926, 0.6022947 ,\n",
       "       0.69588876, 0.6526911 , 0.8142963 , 0.7366964 , 0.6873724 ,\n",
       "       0.7122415 , 0.63734144, 0.717744  , 0.5742796 , 0.6842124 ,\n",
       "       0.6992769 , 0.72875977, 0.6494847 , 0.67897594, 0.6669615 ,\n",
       "       0.6305615 , 0.6217018 , 0.5375997 , 0.6807154 , 0.55917716,\n",
       "       0.7196642 , 0.77403516, 0.61929435, 0.63522464, 0.73635787,\n",
       "       0.69053876, 0.6826796 , 0.6782132 , 0.78357553, 0.65468293,\n",
       "       0.65226513, 0.6462435 , 0.7906052 , 0.77927357, 0.7184062 ,\n",
       "       0.6940968 , 0.7053904 , 0.5469506 , 0.71551234, 0.7146006 ,\n",
       "       0.66734755, 0.6237773 , 0.773301  , 0.70723855, 0.69259596,\n",
       "       0.6435969 , 0.62769175], dtype=float32)"
      ]
     },
     "execution_count": 85,
     "metadata": {},
     "output_type": "execute_result"
    }
   ],
   "source": [
    "predictions = my_model.predict(keras_dat_predict)\n",
    "predictions\n",
    "prob_true = predictions[:,1]\n",
    "prob_true"
   ]
  },
  {
   "cell_type": "code",
   "execution_count": 49,
   "metadata": {},
   "outputs": [
    {
     "name": "stdout",
     "output_type": "stream",
     "text": [
      "Epoch 1/1\n",
      "3603/3603 [==============================] - 0s 32us/step - loss: 9.0204\n"
     ]
    },
    {
     "data": {
      "text/plain": [
       "<keras.callbacks.callbacks.History at 0x19a62020c88>"
      ]
     },
     "execution_count": 49,
     "metadata": {},
     "output_type": "execute_result"
    }
   ],
   "source": []
  },
  {
   "cell_type": "code",
   "execution_count": 3,
   "metadata": {},
   "outputs": [
    {
     "data": {
      "text/html": [
       "<div>\n",
       "<style scoped>\n",
       "    .dataframe tbody tr th:only-of-type {\n",
       "        vertical-align: middle;\n",
       "    }\n",
       "\n",
       "    .dataframe tbody tr th {\n",
       "        vertical-align: top;\n",
       "    }\n",
       "\n",
       "    .dataframe thead th {\n",
       "        text-align: right;\n",
       "    }\n",
       "</style>\n",
       "<table border=\"1\" class=\"dataframe\">\n",
       "  <thead>\n",
       "    <tr style=\"text-align: right;\">\n",
       "      <th></th>\n",
       "      <th>Quarter.x</th>\n",
       "      <th>Agegroup.x</th>\n",
       "      <th>OverallHealth.x</th>\n",
       "      <th>CapableManagingHealthCareNeeds.x</th>\n",
       "      <th>HandlingDailyLife.x</th>\n",
       "      <th>ControlLife.x</th>\n",
       "      <th>DealWithCrisis.x</th>\n",
       "      <th>GetsAlongWithFamily.x</th>\n",
       "      <th>SocialSituations.x</th>\n",
       "      <th>FunctioningHousing.x</th>\n",
       "      <th>...</th>\n",
       "      <th>Gender.x</th>\n",
       "      <th>RaceWhite.x</th>\n",
       "      <th>RaceBlack.x</th>\n",
       "      <th>Housing.x</th>\n",
       "      <th>Employment.x</th>\n",
       "      <th>drop_out</th>\n",
       "      <th>anxiety</th>\n",
       "      <th>mdd_r</th>\n",
       "      <th>mdd_s</th>\n",
       "      <th>another_sex_ident</th>\n",
       "    </tr>\n",
       "  </thead>\n",
       "  <tbody>\n",
       "    <tr>\n",
       "      <th>0</th>\n",
       "      <td>2</td>\n",
       "      <td>8</td>\n",
       "      <td>4</td>\n",
       "      <td>3</td>\n",
       "      <td>2</td>\n",
       "      <td>3</td>\n",
       "      <td>2</td>\n",
       "      <td>3</td>\n",
       "      <td>2</td>\n",
       "      <td>4</td>\n",
       "      <td>...</td>\n",
       "      <td>1</td>\n",
       "      <td>0</td>\n",
       "      <td>1</td>\n",
       "      <td>1</td>\n",
       "      <td>0</td>\n",
       "      <td>0</td>\n",
       "      <td>0</td>\n",
       "      <td>0</td>\n",
       "      <td>1</td>\n",
       "      <td>0</td>\n",
       "    </tr>\n",
       "    <tr>\n",
       "      <th>1</th>\n",
       "      <td>1</td>\n",
       "      <td>6</td>\n",
       "      <td>1</td>\n",
       "      <td>1</td>\n",
       "      <td>4</td>\n",
       "      <td>4</td>\n",
       "      <td>4</td>\n",
       "      <td>4</td>\n",
       "      <td>4</td>\n",
       "      <td>3</td>\n",
       "      <td>...</td>\n",
       "      <td>0</td>\n",
       "      <td>1</td>\n",
       "      <td>0</td>\n",
       "      <td>0</td>\n",
       "      <td>1</td>\n",
       "      <td>0</td>\n",
       "      <td>0</td>\n",
       "      <td>1</td>\n",
       "      <td>0</td>\n",
       "      <td>1</td>\n",
       "    </tr>\n",
       "    <tr>\n",
       "      <th>2</th>\n",
       "      <td>2</td>\n",
       "      <td>8</td>\n",
       "      <td>4</td>\n",
       "      <td>1</td>\n",
       "      <td>4</td>\n",
       "      <td>4</td>\n",
       "      <td>4</td>\n",
       "      <td>5</td>\n",
       "      <td>5</td>\n",
       "      <td>4</td>\n",
       "      <td>...</td>\n",
       "      <td>0</td>\n",
       "      <td>0</td>\n",
       "      <td>1</td>\n",
       "      <td>1</td>\n",
       "      <td>0</td>\n",
       "      <td>1</td>\n",
       "      <td>0</td>\n",
       "      <td>0</td>\n",
       "      <td>0</td>\n",
       "      <td>0</td>\n",
       "    </tr>\n",
       "    <tr>\n",
       "      <th>3</th>\n",
       "      <td>1</td>\n",
       "      <td>8</td>\n",
       "      <td>2</td>\n",
       "      <td>1</td>\n",
       "      <td>2</td>\n",
       "      <td>4</td>\n",
       "      <td>4</td>\n",
       "      <td>1</td>\n",
       "      <td>5</td>\n",
       "      <td>1</td>\n",
       "      <td>...</td>\n",
       "      <td>0</td>\n",
       "      <td>1</td>\n",
       "      <td>0</td>\n",
       "      <td>0</td>\n",
       "      <td>0</td>\n",
       "      <td>0</td>\n",
       "      <td>0</td>\n",
       "      <td>0</td>\n",
       "      <td>0</td>\n",
       "      <td>0</td>\n",
       "    </tr>\n",
       "    <tr>\n",
       "      <th>4</th>\n",
       "      <td>2</td>\n",
       "      <td>8</td>\n",
       "      <td>5</td>\n",
       "      <td>2</td>\n",
       "      <td>2</td>\n",
       "      <td>4</td>\n",
       "      <td>4</td>\n",
       "      <td>4</td>\n",
       "      <td>4</td>\n",
       "      <td>4</td>\n",
       "      <td>...</td>\n",
       "      <td>0</td>\n",
       "      <td>1</td>\n",
       "      <td>0</td>\n",
       "      <td>1</td>\n",
       "      <td>0</td>\n",
       "      <td>1</td>\n",
       "      <td>0</td>\n",
       "      <td>1</td>\n",
       "      <td>0</td>\n",
       "      <td>0</td>\n",
       "    </tr>\n",
       "  </tbody>\n",
       "</table>\n",
       "<p>5 rows × 48 columns</p>\n",
       "</div>"
      ],
      "text/plain": [
       "   Quarter.x  Agegroup.x  OverallHealth.x  CapableManagingHealthCareNeeds.x  \\\n",
       "0          2           8                4                                 3   \n",
       "1          1           6                1                                 1   \n",
       "2          2           8                4                                 1   \n",
       "3          1           8                2                                 1   \n",
       "4          2           8                5                                 2   \n",
       "\n",
       "   HandlingDailyLife.x  ControlLife.x  DealWithCrisis.x  \\\n",
       "0                    2              3                 2   \n",
       "1                    4              4                 4   \n",
       "2                    4              4                 4   \n",
       "3                    2              4                 4   \n",
       "4                    2              4                 4   \n",
       "\n",
       "   GetsAlongWithFamily.x  SocialSituations.x  FunctioningHousing.x  ...  \\\n",
       "0                      3                   2                     4  ...   \n",
       "1                      4                   4                     3  ...   \n",
       "2                      5                   5                     4  ...   \n",
       "3                      1                   5                     1  ...   \n",
       "4                      4                   4                     4  ...   \n",
       "\n",
       "   Gender.x  RaceWhite.x  RaceBlack.x  Housing.x  Employment.x  drop_out  \\\n",
       "0         1            0            1          1             0         0   \n",
       "1         0            1            0          0             1         0   \n",
       "2         0            0            1          1             0         1   \n",
       "3         0            1            0          0             0         0   \n",
       "4         0            1            0          1             0         1   \n",
       "\n",
       "   anxiety  mdd_r  mdd_s  another_sex_ident  \n",
       "0        0      0      1                  0  \n",
       "1        0      1      0                  1  \n",
       "2        0      0      0                  0  \n",
       "3        0      0      0                  0  \n",
       "4        0      1      0                  0  \n",
       "\n",
       "[5 rows x 48 columns]"
      ]
     },
     "execution_count": 3,
     "metadata": {},
     "output_type": "execute_result"
    }
   ],
   "source": [
    "keras_dat.head()"
   ]
  },
  {
   "cell_type": "code",
   "execution_count": null,
   "metadata": {},
   "outputs": [],
   "source": [
    "from sklearn.feature_extraction.text import CountVectorizer\n",
    "\n",
    "from sklearn.model_selection import train_test_split"
   ]
  },
  {
   "cell_type": "code",
   "execution_count": 27,
   "metadata": {},
   "outputs": [
    {
     "data": {
      "text/plain": [
       "0       0\n",
       "1       0\n",
       "2       1\n",
       "3       0\n",
       "4       1\n",
       "       ..\n",
       "3598    1\n",
       "3599    0\n",
       "3600    1\n",
       "3601    1\n",
       "3602    1\n",
       "Name: drop_out, Length: 3603, dtype: int64"
      ]
     },
     "execution_count": 27,
     "metadata": {},
     "output_type": "execute_result"
    }
   ],
   "source": [
    "keras_dat.drop_out"
   ]
  },
  {
   "cell_type": "code",
   "execution_count": 29,
   "metadata": {},
   "outputs": [],
   "source": [
    "y = keras_dat.drop_out\n",
    "X_train, X_test, y_train, y_test = train_test_split(keras_dat[\"drop_out\"], y, test_size = .33, random_state = 53)"
   ]
  },
  {
   "cell_type": "code",
   "execution_count": 31,
   "metadata": {},
   "outputs": [
    {
     "data": {
      "text/plain": [
       "1900    0\n",
       "3289    0\n",
       "1299    0\n",
       "1472    1\n",
       "179     0\n",
       "       ..\n",
       "703     1\n",
       "498     0\n",
       "2544    0\n",
       "994     0\n",
       "773     0\n",
       "Name: drop_out, Length: 1189, dtype: int64"
      ]
     },
     "execution_count": 31,
     "metadata": {},
     "output_type": "execute_result"
    }
   ],
   "source": [
    "X_test"
   ]
  },
  {
   "cell_type": "code",
   "execution_count": 7,
   "metadata": {},
   "outputs": [
    {
     "data": {
      "text/plain": [
       "254      dropped out senior year of high school\n",
       "252                                 High School\n",
       "165                                  9 th grade\n",
       "22     high school, couple semesters of college\n",
       "34                                          GED\n",
       "                         ...                   \n",
       "186                                 high school\n",
       "150                                some college\n",
       "189                                          13\n",
       "251                  did not finish high school\n",
       "25                           3 years of college\n",
       "Name: Education, Length: 190, dtype: object"
      ]
     },
     "execution_count": 7,
     "metadata": {},
     "output_type": "execute_result"
    }
   ],
   "source": [
    "X_train"
   ]
  },
  {
   "cell_type": "code",
   "execution_count": 8,
   "metadata": {},
   "outputs": [],
   "source": [
    "count_vectorizer = CountVectorizer(stop_words='english')\n",
    "count_train = count_vectorizer.fit_transform(X_train.values)\n",
    "count_test = count_vectorizer.transform(X_test.values)"
   ]
  },
  {
   "cell_type": "code",
   "execution_count": 9,
   "metadata": {},
   "outputs": [
    {
     "data": {
      "text/plain": [
       "['18',\n",
       " '1985',\n",
       " '20',\n",
       " '2011',\n",
       " '2013',\n",
       " '7th',\n",
       " '8th',\n",
       " '9th',\n",
       " 'aa',\n",
       " 'achieve',\n",
       " 'admin',\n",
       " 'apprenticeship',\n",
       " 'arrived',\n",
       " 'arts',\n",
       " 'assoc',\n",
       " 'associate',\n",
       " 'associates',\n",
       " 'attending',\n",
       " 'ba',\n",
       " 'bachelor',\n",
       " 'bachelors',\n",
       " 'born',\n",
       " 'bs',\n",
       " 'business',\n",
       " 'care',\n",
       " 'carolina',\n",
       " 'child',\n",
       " 'client',\n",
       " 'clt',\n",
       " 'cna']"
      ]
     },
     "execution_count": 9,
     "metadata": {},
     "output_type": "execute_result"
    }
   ],
   "source": [
    "count_vectorizer.get_feature_names()[10:40]"
   ]
  },
  {
   "cell_type": "code",
   "execution_count": 10,
   "metadata": {},
   "outputs": [],
   "source": [
    "from sklearn.naive_bayes import MultinomialNB\n",
    "from sklearn import metrics\n",
    "nb_classifier = MultinomialNB()\n",
    "nb_classifier.fit(count_train, y_train)\n",
    "pred = nb_classifier.predict(count_test)"
   ]
  },
  {
   "cell_type": "code",
   "execution_count": 11,
   "metadata": {},
   "outputs": [
    {
     "data": {
      "text/plain": [
       "0.8421052631578947"
      ]
     },
     "execution_count": 11,
     "metadata": {},
     "output_type": "execute_result"
    }
   ],
   "source": [
    "metrics.accuracy_score(y_test, pred)"
   ]
  },
  {
   "cell_type": "code",
   "execution_count": 12,
   "metadata": {},
   "outputs": [
    {
     "data": {
      "text/plain": [
       "0.8518080916577158"
      ]
     },
     "execution_count": 12,
     "metadata": {},
     "output_type": "execute_result"
    }
   ],
   "source": [
    "metrics.precision_score(y_test, pred, average = \"weighted\")"
   ]
  },
  {
   "cell_type": "code",
   "execution_count": 13,
   "metadata": {},
   "outputs": [
    {
     "data": {
      "text/plain": [
       "0.8421052631578947"
      ]
     },
     "execution_count": 13,
     "metadata": {},
     "output_type": "execute_result"
    }
   ],
   "source": [
    "metrics.recall_score(y_test, pred, average = \"weighted\")"
   ]
  },
  {
   "cell_type": "code",
   "execution_count": 18,
   "metadata": {},
   "outputs": [],
   "source": []
  },
  {
   "cell_type": "code",
   "execution_count": 21,
   "metadata": {},
   "outputs": [
    {
     "data": {
      "text/html": [
       "<div>\n",
       "<style scoped>\n",
       "    .dataframe tbody tr th:only-of-type {\n",
       "        vertical-align: middle;\n",
       "    }\n",
       "\n",
       "    .dataframe tbody tr th {\n",
       "        vertical-align: top;\n",
       "    }\n",
       "\n",
       "    .dataframe thead th {\n",
       "        text-align: right;\n",
       "    }\n",
       "</style>\n",
       "<table border=\"1\" class=\"dataframe\">\n",
       "  <thead>\n",
       "    <tr style=\"text-align: right;\">\n",
       "      <th></th>\n",
       "      <th>Education</th>\n",
       "      <th>CodesMatt</th>\n",
       "    </tr>\n",
       "  </thead>\n",
       "  <tbody>\n",
       "    <tr>\n",
       "      <th>0</th>\n",
       "      <td>I graduated high school</td>\n",
       "      <td>1.0</td>\n",
       "    </tr>\n",
       "    <tr>\n",
       "      <th>1</th>\n",
       "      <td>11th, 3 credits short from graduating high school</td>\n",
       "      <td>0.0</td>\n",
       "    </tr>\n",
       "    <tr>\n",
       "      <th>2</th>\n",
       "      <td>11th, 3 credits short from graduating high school</td>\n",
       "      <td>0.0</td>\n",
       "    </tr>\n",
       "    <tr>\n",
       "      <th>3</th>\n",
       "      <td>high school</td>\n",
       "      <td>1.0</td>\n",
       "    </tr>\n",
       "    <tr>\n",
       "      <th>4</th>\n",
       "      <td>14 years</td>\n",
       "      <td>2.0</td>\n",
       "    </tr>\n",
       "    <tr>\n",
       "      <th>...</th>\n",
       "      <td>...</td>\n",
       "      <td>...</td>\n",
       "    </tr>\n",
       "    <tr>\n",
       "      <th>280</th>\n",
       "      <td>three years of college</td>\n",
       "      <td>2.0</td>\n",
       "    </tr>\n",
       "    <tr>\n",
       "      <th>281</th>\n",
       "      <td>GED</td>\n",
       "      <td>1.0</td>\n",
       "    </tr>\n",
       "    <tr>\n",
       "      <th>282</th>\n",
       "      <td>GED</td>\n",
       "      <td>1.0</td>\n",
       "    </tr>\n",
       "    <tr>\n",
       "      <th>283</th>\n",
       "      <td>GED</td>\n",
       "      <td>1.0</td>\n",
       "    </tr>\n",
       "    <tr>\n",
       "      <th>284</th>\n",
       "      <td>year of college</td>\n",
       "      <td>2.0</td>\n",
       "    </tr>\n",
       "  </tbody>\n",
       "</table>\n",
       "<p>285 rows × 2 columns</p>\n",
       "</div>"
      ],
      "text/plain": [
       "                                             Education  CodesMatt\n",
       "0                              I graduated high school        1.0\n",
       "1    11th, 3 credits short from graduating high school        0.0\n",
       "2    11th, 3 credits short from graduating high school        0.0\n",
       "3                                          high school        1.0\n",
       "4                                             14 years        2.0\n",
       "..                                                 ...        ...\n",
       "280                             three years of college        2.0\n",
       "281                                                GED        1.0\n",
       "282                                                GED        1.0\n",
       "283                                                GED        1.0\n",
       "284                                    year of college        2.0\n",
       "\n",
       "[285 rows x 2 columns]"
      ]
     },
     "execution_count": 21,
     "metadata": {},
     "output_type": "execute_result"
    }
   ],
   "source": []
  },
  {
   "cell_type": "code",
   "execution_count": 142,
   "metadata": {},
   "outputs": [
    {
     "ename": "ValueError",
     "evalue": "Error when checking input: expected dense_9_input to have shape (100,) but got array with shape (1,)",
     "output_type": "error",
     "traceback": [
      "\u001b[1;31m---------------------------------------------------------------------------\u001b[0m",
      "\u001b[1;31mValueError\u001b[0m                                Traceback (most recent call last)",
      "\u001b[1;32m<ipython-input-142-601f7224d647>\u001b[0m in \u001b[0;36m<module>\u001b[1;34m\u001b[0m\n\u001b[1;32m----> 1\u001b[1;33m \u001b[0mmodel\u001b[0m\u001b[1;33m.\u001b[0m\u001b[0mfit\u001b[0m\u001b[1;33m(\u001b[0m\u001b[0mX_train\u001b[0m\u001b[1;33m,\u001b[0m \u001b[0my_train\u001b[0m\u001b[1;33m,\u001b[0m \u001b[0mepochs\u001b[0m\u001b[1;33m=\u001b[0m\u001b[1;36m10\u001b[0m\u001b[1;33m,\u001b[0m \u001b[0mbatch_size\u001b[0m\u001b[1;33m=\u001b[0m\u001b[1;36m32\u001b[0m\u001b[1;33m)\u001b[0m\u001b[1;33m\u001b[0m\u001b[1;33m\u001b[0m\u001b[0m\n\u001b[0m",
      "\u001b[1;32m~\\Anaconda3\\lib\\site-packages\\keras\\engine\\training.py\u001b[0m in \u001b[0;36mfit\u001b[1;34m(self, x, y, batch_size, epochs, verbose, callbacks, validation_split, validation_data, shuffle, class_weight, sample_weight, initial_epoch, steps_per_epoch, validation_steps, validation_freq, max_queue_size, workers, use_multiprocessing, **kwargs)\u001b[0m\n\u001b[0;32m   1152\u001b[0m             \u001b[0msample_weight\u001b[0m\u001b[1;33m=\u001b[0m\u001b[0msample_weight\u001b[0m\u001b[1;33m,\u001b[0m\u001b[1;33m\u001b[0m\u001b[1;33m\u001b[0m\u001b[0m\n\u001b[0;32m   1153\u001b[0m             \u001b[0mclass_weight\u001b[0m\u001b[1;33m=\u001b[0m\u001b[0mclass_weight\u001b[0m\u001b[1;33m,\u001b[0m\u001b[1;33m\u001b[0m\u001b[1;33m\u001b[0m\u001b[0m\n\u001b[1;32m-> 1154\u001b[1;33m             batch_size=batch_size)\n\u001b[0m\u001b[0;32m   1155\u001b[0m \u001b[1;33m\u001b[0m\u001b[0m\n\u001b[0;32m   1156\u001b[0m         \u001b[1;31m# Prepare validation data.\u001b[0m\u001b[1;33m\u001b[0m\u001b[1;33m\u001b[0m\u001b[1;33m\u001b[0m\u001b[0m\n",
      "\u001b[1;32m~\\Anaconda3\\lib\\site-packages\\keras\\engine\\training.py\u001b[0m in \u001b[0;36m_standardize_user_data\u001b[1;34m(self, x, y, sample_weight, class_weight, check_array_lengths, batch_size)\u001b[0m\n\u001b[0;32m    577\u001b[0m             \u001b[0mfeed_input_shapes\u001b[0m\u001b[1;33m,\u001b[0m\u001b[1;33m\u001b[0m\u001b[1;33m\u001b[0m\u001b[0m\n\u001b[0;32m    578\u001b[0m             \u001b[0mcheck_batch_axis\u001b[0m\u001b[1;33m=\u001b[0m\u001b[1;32mFalse\u001b[0m\u001b[1;33m,\u001b[0m  \u001b[1;31m# Don't enforce the batch size.\u001b[0m\u001b[1;33m\u001b[0m\u001b[1;33m\u001b[0m\u001b[0m\n\u001b[1;32m--> 579\u001b[1;33m             exception_prefix='input')\n\u001b[0m\u001b[0;32m    580\u001b[0m \u001b[1;33m\u001b[0m\u001b[0m\n\u001b[0;32m    581\u001b[0m         \u001b[1;32mif\u001b[0m \u001b[0my\u001b[0m \u001b[1;32mis\u001b[0m \u001b[1;32mnot\u001b[0m \u001b[1;32mNone\u001b[0m\u001b[1;33m:\u001b[0m\u001b[1;33m\u001b[0m\u001b[1;33m\u001b[0m\u001b[0m\n",
      "\u001b[1;32m~\\Anaconda3\\lib\\site-packages\\keras\\engine\\training_utils.py\u001b[0m in \u001b[0;36mstandardize_input_data\u001b[1;34m(data, names, shapes, check_batch_axis, exception_prefix)\u001b[0m\n\u001b[0;32m    143\u001b[0m                             \u001b[1;34m': expected '\u001b[0m \u001b[1;33m+\u001b[0m \u001b[0mnames\u001b[0m\u001b[1;33m[\u001b[0m\u001b[0mi\u001b[0m\u001b[1;33m]\u001b[0m \u001b[1;33m+\u001b[0m \u001b[1;34m' to have shape '\u001b[0m \u001b[1;33m+\u001b[0m\u001b[1;33m\u001b[0m\u001b[1;33m\u001b[0m\u001b[0m\n\u001b[0;32m    144\u001b[0m                             \u001b[0mstr\u001b[0m\u001b[1;33m(\u001b[0m\u001b[0mshape\u001b[0m\u001b[1;33m)\u001b[0m \u001b[1;33m+\u001b[0m \u001b[1;34m' but got array with shape '\u001b[0m \u001b[1;33m+\u001b[0m\u001b[1;33m\u001b[0m\u001b[1;33m\u001b[0m\u001b[0m\n\u001b[1;32m--> 145\u001b[1;33m                             str(data_shape))\n\u001b[0m\u001b[0;32m    146\u001b[0m     \u001b[1;32mreturn\u001b[0m \u001b[0mdata\u001b[0m\u001b[1;33m\u001b[0m\u001b[1;33m\u001b[0m\u001b[0m\n\u001b[0;32m    147\u001b[0m \u001b[1;33m\u001b[0m\u001b[0m\n",
      "\u001b[1;31mValueError\u001b[0m: Error when checking input: expected dense_9_input to have shape (100,) but got array with shape (1,)"
     ]
    }
   ],
   "source": []
  },
  {
   "cell_type": "code",
   "execution_count": null,
   "metadata": {},
   "outputs": [],
   "source": []
  }
 ],
 "metadata": {
  "kernelspec": {
   "display_name": "Python 3",
   "language": "python",
   "name": "python3"
  },
  "language_info": {
   "codemirror_mode": {
    "name": "ipython",
    "version": 3
   },
   "file_extension": ".py",
   "mimetype": "text/x-python",
   "name": "python",
   "nbconvert_exporter": "python",
   "pygments_lexer": "ipython3",
   "version": "3.7.6"
  }
 },
 "nbformat": 4,
 "nbformat_minor": 4
}
